{
  "nbformat": 4,
  "nbformat_minor": 0,
  "metadata": {
    "colab": {
      "name": "Linear Programming",
      "provenance": [],
      "include_colab_link": true
    },
    "language_info": {
      "codemirror_mode": {
        "name": "ipython",
        "version": 3
      },
      "file_extension": ".py",
      "mimetype": "text/x-python",
      "name": "python",
      "nbconvert_exporter": "python",
      "pygments_lexer": "ipython3",
      "version": "3.6.0"
    },
    "kernelspec": {
      "display_name": "Python 3",
      "language": "python",
      "name": "python3"
    }
  },
  "cells": [
    {
      "cell_type": "markdown",
      "metadata": {
        "id": "view-in-github",
        "colab_type": "text"
      },
      "source": [
        "<a href=\"https://colab.research.google.com/github/rc-dbe/bigdatacertification/blob/master/Linear_Programming.ipynb\" target=\"_parent\"><img src=\"https://colab.research.google.com/assets/colab-badge.svg\" alt=\"Open In Colab\"/></a>"
      ]
    },
    {
      "cell_type": "markdown",
      "metadata": {
        "id": "DhLs-gEj-_1T",
        "colab_type": "text"
      },
      "source": [
        "*Hands-on of Big Data Analyst with TuV Certified Qualification*\n",
        "\n",
        "\n",
        "---\n",
        "\n"
      ]
    },
    {
      "cell_type": "markdown",
      "metadata": {
        "id": "yfuBBKt_dXBB",
        "colab_type": "text"
      },
      "source": [
        "<h1>Car Manufacturer Problem - Maximizing Profits</h1>\n",
        "\n",
        "Problem summary: \n",
        "The manufacturer produces 2 types of car, A and B. Its factory runs 30 days per month. There are 1 robot, 2 engineers and 1 detailer available. The detailer only works for 21 days each month instead of 30.\n",
        "\n",
        "Resources allocation for the cars:\n",
        "\n",
        "<ol>\n",
        "    <li>Robot time: Car A – 3 days; Car B – 4 days.</li>\n",
        "    <li>Engineer time: Car A – 5 days; Car B – 6 days.</li>\n",
        "    <li>Detailer time: Car A – 1.5 days; Car B – 3 days.</li>\n",
        "</ol>\n",
        "\n",
        "Car A provides Rp 30,000,000 profit, whilst Car B offers Rp 45,000,000 profit.\n",
        "\n",
        "At the moment, they produce 4 of each cars per month, for Rp 300,000,000 profit. Not bad at all, but we think we can do better for them.\n",
        "\n",
        "The problem can be modelled as follows:\n",
        "\n",
        "Maximise profit for each month!\n",
        "\n",
        "<p style=\"font-size: 30px; color:red;\">Profit = 30,000,000A + 45,000,000B</p>\n",
        "\n",
        "Subject to:\n",
        "<ol style=\"font-weight: bold;\">\n",
        "    <li>A ≥ 0</li>\n",
        "    <li>B ≥0 </li>\n",
        "    <li>3A + 4B ≤ 30</li>\n",
        "    <li>5A + 6B ≤ 60 </li> \n",
        "    <li>1.5A + 3B ≤ 21</li>\n",
        "</ol>\n",
        "Note: 2 engineers work for 60 man-days per month"
      ]
    },
    {
      "cell_type": "code",
      "metadata": {
        "id": "83qRbHeOdXBC",
        "colab_type": "code",
        "colab": {}
      },
      "source": [
        "# Intall and Import Package/Library\n",
        "!pip install pulp\n",
        "import pulp"
      ],
      "execution_count": 0,
      "outputs": []
    },
    {
      "cell_type": "code",
      "metadata": {
        "id": "bNZGClqudXBF",
        "colab_type": "code",
        "colab": {}
      },
      "source": [
        "# Instantiate our problem class\n",
        "model = pulp.LpProblem(\"Profit maximising problem\", pulp.LpMaximize)"
      ],
      "execution_count": 0,
      "outputs": []
    },
    {
      "cell_type": "markdown",
      "metadata": {
        "id": "R2Kqy3k4dXBH",
        "colab_type": "text"
      },
      "source": [
        "The decision variables in this case are continuous (We can’t sell half a car!), so the category is integer."
      ]
    },
    {
      "cell_type": "code",
      "metadata": {
        "id": "NjFbiv3OdXBI",
        "colab_type": "code",
        "colab": {}
      },
      "source": [
        "A = pulp.LpVariable('A', lowBound=0, cat='Integer')\n",
        "B = pulp.LpVariable('B', lowBound=0, cat='Integer')"
      ],
      "execution_count": 0,
      "outputs": []
    },
    {
      "cell_type": "code",
      "metadata": {
        "id": "G4T-kmkfdXBK",
        "colab_type": "code",
        "colab": {}
      },
      "source": [
        "# Objective function\n",
        "model += 30000000 * A + 45000000 * B, \"Profit\"\n",
        "\n",
        "# Constraints\n",
        "model += 3 * A + 4 * B <= 30\n",
        "model += 5 * A + 6 * B <= 60\n",
        "model += 1.5 * A + 3 * B <= 21"
      ],
      "execution_count": 0,
      "outputs": []
    },
    {
      "cell_type": "code",
      "metadata": {
        "id": "GavWEGxidXBM",
        "colab_type": "code",
        "colab": {}
      },
      "source": [
        "# Solve our problem\n",
        "model.solve()\n",
        "pulp.LpStatus[model.status]"
      ],
      "execution_count": 0,
      "outputs": []
    },
    {
      "cell_type": "code",
      "metadata": {
        "id": "WyJ2EM-1dXBS",
        "colab_type": "code",
        "colab": {}
      },
      "source": [
        "# Print our decision variable values\n",
        "print (\"Production of Car A = {}\".format(A.varValue))\n",
        "print (\"Production of Car B = {}\".format(B.varValue))"
      ],
      "execution_count": 0,
      "outputs": []
    },
    {
      "cell_type": "code",
      "metadata": {
        "id": "l3sGx6ZNdXBV",
        "colab_type": "code",
        "colab": {}
      },
      "source": [
        "# Print our objective function value\n",
        "print (\"Maximum profit: Rp \" + str(pulp.value(model.objective)))"
      ],
      "execution_count": 0,
      "outputs": []
    },
    {
      "cell_type": "markdown",
      "metadata": {
        "id": "u6DzYfGwdXBY",
        "colab_type": "text"
      },
      "source": [
        "So that’s Rp 330,00,0000 monthly profit, compared to their original monthly profit of Rp 300,000,000\n",
        "\n",
        "We bolster the profits by Rp 30,000,000 per month by producing 2 cars of Car A and 6 cars of Car B. \n",
        "\n",
        "Everyone is happy now."
      ]
    }
  ]
}