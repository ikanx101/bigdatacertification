{
  "nbformat": 4,
  "nbformat_minor": 0,
  "metadata": {
    "colab": {
      "name": "1. Data Analytics Essentials .ipynb",
      "provenance": [],
      "collapsed_sections": [],
      "toc_visible": true,
      "include_colab_link": true
    },
    "language_info": {
      "codemirror_mode": {
        "name": "ipython",
        "version": 3
      },
      "file_extension": ".py",
      "mimetype": "text/x-python",
      "name": "python",
      "nbconvert_exporter": "python",
      "pygments_lexer": "ipython3",
      "version": "3.7.3"
    },
    "kernelspec": {
      "display_name": "Python 3",
      "language": "python",
      "name": "python3"
    }
  },
  "cells": [
    {
      "cell_type": "markdown",
      "metadata": {
        "id": "view-in-github",
        "colab_type": "text"
      },
      "source": [
        "<a href=\"https://colab.research.google.com/github/rc-dbe/bigdatacertification/blob/master/Data_Analytics_Essentials_.ipynb\" target=\"_parent\"><img src=\"https://colab.research.google.com/assets/colab-badge.svg\" alt=\"Open In Colab\"/></a>"
      ]
    },
    {
      "cell_type": "markdown",
      "metadata": {
        "id": "FurDMcm_yvfA",
        "colab_type": "text"
      },
      "source": [
        "\n",
        "*Hands-on of Big Data Analyst with TuV Certified Qualification*\n",
        "\n",
        "\n",
        "---\n",
        "\n",
        "\n"
      ]
    },
    {
      "cell_type": "markdown",
      "metadata": {
        "id": "px7U2SKDgpY7",
        "colab_type": "text"
      },
      "source": [
        "# **1. Data Analytics Essentials**"
      ]
    },
    {
      "cell_type": "markdown",
      "metadata": {
        "id": "tY0tlG7vnLcv",
        "colab_type": "text"
      },
      "source": [
        "**Overview:** \n",
        "\n",
        "* Data Exploration\n",
        "* Data Preparation\n",
        "* Dimensionality Reduction"
      ]
    },
    {
      "cell_type": "markdown",
      "metadata": {
        "id": "ydIkrMPmgpY9",
        "colab_type": "text"
      },
      "source": [
        "## **Data Exploration**"
      ]
    },
    {
      "cell_type": "markdown",
      "metadata": {
        "id": "3fMuAO8cLrC_",
        "colab_type": "text"
      },
      "source": [
        "Data exploration is the initial step in data analysis, where users explore a large data set in an unstructured way to uncover initial patterns, characteristics, and points of interest. This process isn’t meant to reveal every bit of information a dataset holds, but rather to help create a broad picture of important trends and major points to study in greater detail."
      ]
    },
    {
      "cell_type": "markdown",
      "metadata": {
        "id": "OKnHQQg2guon",
        "colab_type": "text"
      },
      "source": [
        "### **Import Data**"
      ]
    },
    {
      "cell_type": "markdown",
      "metadata": {
        "id": "9rBF715QjS-A",
        "colab_type": "text"
      },
      "source": [
        "There are so many ways to import the data from the outside source. One of it is using Pandas, Pandas is a python library that widely used for data analytics."
      ]
    },
    {
      "cell_type": "code",
      "metadata": {
        "id": "gORhACongpY-",
        "colab_type": "code",
        "colab": {}
      },
      "source": [
        "# import library\n",
        "import pandas as pd"
      ],
      "execution_count": null,
      "outputs": []
    },
    {
      "cell_type": "markdown",
      "metadata": {
        "id": "-DKrTxDpkHFP",
        "colab_type": "text"
      },
      "source": [
        "In practice this time we will use Telco Customer Churn dataset that available at Kaggle. This dataset contains unique customer records for a telecom company called Telco.\n",
        "\n",
        "This data set includes information about:\n",
        "*   Services that each customer has signed up for – phone, multiple lines, internet, online security, online backup, device protection, tech support, and streaming TV and movies.\n",
        "*   Customer account information – how long they’ve been a customer, contract, payment method, paperless billing, monthly charges, and total charges.\n",
        "*   Demographic info about customers – gender, age range, and if they have partners and dependents.\n",
        "*   Customers who left within the last month – the column is called Churn\n",
        "\n",
        "We can import many types of file, from many types of source. Since we are using Goole Collab, we are going to import the dataset from an online link(GitHUb Repo). For the other methods to import data can be seen in the Pandas documentation. [HERE](https://https://pandas.pydata.org/pandas-docs/stable/). \n",
        "\n"
      ]
    },
    {
      "cell_type": "markdown",
      "metadata": {
        "id": "AicGKyC9XujM",
        "colab_type": "text"
      },
      "source": [
        "Import Data"
      ]
    },
    {
      "cell_type": "code",
      "metadata": {
        "id": "u3r3rlhDgpZC",
        "colab_type": "code",
        "colab": {}
      },
      "source": [
        "# Import data from an online link (GitHub)\n",
        "df_link = pd.read_csv('https://raw.githubusercontent.com/rc-dbe/bigdatacertification/master/dataset/churn.csv', sep=';',)"
      ],
      "execution_count": null,
      "outputs": []
    },
    {
      "cell_type": "code",
      "metadata": {
        "id": "VsNDG9csuEiM",
        "colab_type": "code",
        "colab": {}
      },
      "source": [
        "# Select the dataset\n",
        "df = df_link"
      ],
      "execution_count": null,
      "outputs": []
    },
    {
      "cell_type": "markdown",
      "metadata": {
        "id": "ORCNM9SwXxbW",
        "colab_type": "text"
      },
      "source": [
        "Show Data"
      ]
    },
    {
      "cell_type": "code",
      "metadata": {
        "id": "FLMRE4zCpkxt",
        "colab_type": "code",
        "colab": {}
      },
      "source": [
        "# Prints 10 first Row\n",
        "df.head(10)"
      ],
      "execution_count": null,
      "outputs": []
    },
    {
      "cell_type": "code",
      "metadata": {
        "id": "GJh_PXp1gpZI",
        "colab_type": "code",
        "colab": {}
      },
      "source": [
        "# Prints 5 last Row\n",
        "df.tail(5)"
      ],
      "execution_count": null,
      "outputs": []
    },
    {
      "cell_type": "markdown",
      "metadata": {
        "id": "SQm7iZIPX1vf",
        "colab_type": "text"
      },
      "source": [
        "Show Dataset Info"
      ]
    },
    {
      "cell_type": "code",
      "metadata": {
        "id": "4mGw9E9lvNFl",
        "colab_type": "code",
        "colab": {}
      },
      "source": [
        "# Prints the amount of rows and column numbers\n",
        "df.shape"
      ],
      "execution_count": null,
      "outputs": []
    },
    {
      "cell_type": "code",
      "metadata": {
        "id": "-c7eRawvgpZF",
        "colab_type": "code",
        "colab": {}
      },
      "source": [
        "# Prints information about a DataFrame including the index dtype and column dtypes, non-null values and memory usage.\n",
        "df.info()"
      ],
      "execution_count": null,
      "outputs": []
    },
    {
      "cell_type": "markdown",
      "metadata": {
        "id": "xhWgEylwgpZN",
        "colab_type": "text"
      },
      "source": [
        "### **Central Tendency Measurements**"
      ]
    },
    {
      "cell_type": "markdown",
      "metadata": {
        "id": "IGa_P9bfYBpE",
        "colab_type": "text"
      },
      "source": [
        "Select Numeric Variables"
      ]
    },
    {
      "cell_type": "code",
      "metadata": {
        "id": "UdUo4BjDgpZR",
        "colab_type": "code",
        "colab": {}
      },
      "source": [
        "# Select Only Numeric Variables\n",
        "df_num = df[['MonthlyCharges', 'tenure', 'TotalCharges']]"
      ],
      "execution_count": null,
      "outputs": []
    },
    {
      "cell_type": "markdown",
      "metadata": {
        "id": "uWClhY2NYGWT",
        "colab_type": "text"
      },
      "source": [
        "Central Tendency Measurements"
      ]
    },
    {
      "cell_type": "code",
      "metadata": {
        "id": "-il0-wFugpZU",
        "colab_type": "code",
        "colab": {}
      },
      "source": [
        "# Mean value\n",
        "mean= df_num.mean()\n",
        "mean"
      ],
      "execution_count": null,
      "outputs": []
    },
    {
      "cell_type": "code",
      "metadata": {
        "id": "2anRdXrBgpZX",
        "colab_type": "code",
        "colab": {}
      },
      "source": [
        "# Median value\n",
        "median= df_num.median()\n",
        "median"
      ],
      "execution_count": null,
      "outputs": []
    },
    {
      "cell_type": "code",
      "metadata": {
        "id": "L8ijh_4GgpZb",
        "colab_type": "code",
        "colab": {}
      },
      "source": [
        "# Mode value\n",
        "mode= df_num.mode()\n",
        "mode"
      ],
      "execution_count": null,
      "outputs": []
    },
    {
      "cell_type": "code",
      "metadata": {
        "id": "lFUpikf0gpZO",
        "colab_type": "code",
        "colab": {}
      },
      "source": [
        "# Prints descriptive statistics that summarize the central tendency, dispersion and shape of a dataset’s distribution\n",
        "df.describe().transpose()"
      ],
      "execution_count": null,
      "outputs": []
    },
    {
      "cell_type": "markdown",
      "metadata": {
        "id": "kX5UrnL-gpZe",
        "colab_type": "text"
      },
      "source": [
        "### **Correlation**"
      ]
    },
    {
      "cell_type": "markdown",
      "metadata": {
        "id": "8md7N1z75AO0",
        "colab_type": "text"
      },
      "source": [
        "To find the pairwise correlation of all columns in the data frame we can use dataframe.corr() function from Pandas.  Any NA values are automatically excluded and \n",
        "any non-numeric data type columns in the data frame automatically  ignored. Read the documentation [HERE](https://https://pandas.pydata.org/pandas-docs/stable/reference/api/pandas.DataFrame.corr.html). \n",
        "\n",
        "There are 4 methods available:\n",
        "*  pearson: standard correlation coefficient\n",
        "*  kendall: Kendall Tau correlation coefficient\n",
        "*  spearman: Spearman rank correlation\n",
        "*  callable: callable with input two 1d ndarrays"
      ]
    },
    {
      "cell_type": "code",
      "metadata": {
        "id": "CN9NCDiagpZf",
        "colab_type": "code",
        "colab": {}
      },
      "source": [
        "# Count the correlation among the columns using kendal method\n",
        "correlation_matrix = df.corr(method='kendall')\n",
        "\n",
        "# Print Correlation Matrix\n",
        "correlation_matrix"
      ],
      "execution_count": null,
      "outputs": []
    },
    {
      "cell_type": "markdown",
      "metadata": {
        "id": "Q8qc25s-lWcb",
        "colab_type": "text"
      },
      "source": [
        "### **Contingency Table**"
      ]
    },
    {
      "cell_type": "code",
      "metadata": {
        "id": "F7b99uKZgpZu",
        "colab_type": "code",
        "colab": {}
      },
      "source": [
        "# Compute Contingency Table\n",
        "data_crosstab = pd.crosstab(df['PaymentMethod'], \n",
        "                            df['Churn'],  \n",
        "                               margins = False) \n",
        "print(data_crosstab) "
      ],
      "execution_count": null,
      "outputs": []
    },
    {
      "cell_type": "markdown",
      "metadata": {
        "id": "2YbMh7zdgpZi",
        "colab_type": "text"
      },
      "source": [
        "### **Data Visualization**"
      ]
    },
    {
      "cell_type": "markdown",
      "metadata": {
        "id": "1-2TwstfYPZT",
        "colab_type": "text"
      },
      "source": [
        "Import Libraries"
      ]
    },
    {
      "cell_type": "code",
      "metadata": {
        "id": "ITFnE_BxmoMQ",
        "colab_type": "code",
        "colab": {}
      },
      "source": [
        "# Import Library\n",
        "import seaborn as sns\n",
        "import matplotlib.pyplot as plt\n",
        "import warnings\n",
        "warnings.filterwarnings('ignore')\n",
        "%matplotlib inline\n",
        "\n",
        "plt.rcParams['figure.figsize'] = (7, 7)\n",
        "plt.style.use('ggplot')"
      ],
      "execution_count": null,
      "outputs": []
    },
    {
      "cell_type": "markdown",
      "metadata": {
        "id": "cG0EUWG78LP_",
        "colab_type": "text"
      },
      "source": [
        "We can customizing plots with style sheets. The style package adds support for easy-to-switch plotting “styles” with the same parameters as a matplotlibrc file.\n",
        "\n",
        "There are a number of pre-defined styles provided by matplotlib, that can be seen [HERE](https://matplotlib.org/3.1.0/gallery/style_sheets/style_sheets_reference.html)"
      ]
    },
    {
      "cell_type": "markdown",
      "metadata": {
        "id": "gcnTPRevla0J",
        "colab_type": "text"
      },
      "source": [
        "Visualize Data Distribution"
      ]
    },
    {
      "cell_type": "code",
      "metadata": {
        "id": "Q4uZuG-mgpZn",
        "colab_type": "code",
        "colab": {}
      },
      "source": [
        "# Visualize Data Distribution\n",
        "sns.distplot(df['MonthlyCharges'])"
      ],
      "execution_count": null,
      "outputs": []
    },
    {
      "cell_type": "markdown",
      "metadata": {
        "id": "G7RT7Y8lhGil",
        "colab_type": "text"
      },
      "source": [
        "Scatter Plot"
      ]
    },
    {
      "cell_type": "code",
      "metadata": {
        "id": "BIWERVqagpZi",
        "colab_type": "code",
        "colab": {}
      },
      "source": [
        "# Scatter Plot\n",
        "sns.scatterplot(x='tenure', y='TotalCharges', data= df)"
      ],
      "execution_count": null,
      "outputs": []
    },
    {
      "cell_type": "code",
      "metadata": {
        "id": "nRUcqIP0Perp",
        "colab_type": "code",
        "colab": {}
      },
      "source": [
        "# Scatter Plot\n",
        "sns.scatterplot(x='tenure', y='TotalCharges', hue='Churn', data= df)"
      ],
      "execution_count": null,
      "outputs": []
    },
    {
      "cell_type": "markdown",
      "metadata": {
        "id": "I3w3PPA5hN6t",
        "colab_type": "text"
      },
      "source": [
        "Bar Chart"
      ]
    },
    {
      "cell_type": "code",
      "metadata": {
        "id": "hoSaQnhMgpZl",
        "colab_type": "code",
        "colab": {}
      },
      "source": [
        "# Draw Correlation Map\n",
        "sns.clustermap(df.corr(), center=0, cmap='vlag', linewidths=.75)"
      ],
      "execution_count": null,
      "outputs": []
    },
    {
      "cell_type": "markdown",
      "metadata": {
        "id": "fRWVPLyOl8Z5",
        "colab_type": "text"
      },
      "source": [
        "Pairwise Relationship"
      ]
    },
    {
      "cell_type": "code",
      "metadata": {
        "id": "xilrUGLygpZp",
        "colab_type": "code",
        "colab": {}
      },
      "source": [
        "# Pairwise relationships\n",
        "sns.pairplot(df, hue='Churn')"
      ],
      "execution_count": null,
      "outputs": []
    },
    {
      "cell_type": "markdown",
      "metadata": {
        "id": "C4dbZ1rDgpZw",
        "colab_type": "text"
      },
      "source": [
        "## **Data Preparation**"
      ]
    },
    {
      "cell_type": "markdown",
      "metadata": {
        "id": "OFlG7JXQH_Df",
        "colab_type": "text"
      },
      "source": [
        "Data preparation is the process of cleaning and transforming raw data prior to processing and analysis."
      ]
    },
    {
      "cell_type": "markdown",
      "metadata": {
        "id": "coVtdbKZgpZw",
        "colab_type": "text"
      },
      "source": [
        "### **Handling Missing Values**"
      ]
    },
    {
      "cell_type": "code",
      "metadata": {
        "id": "NiUkLhrkgpZx",
        "colab_type": "code",
        "colab": {}
      },
      "source": [
        "# Show missing values on data\n",
        "df.isnull().sum()"
      ],
      "execution_count": null,
      "outputs": []
    },
    {
      "cell_type": "code",
      "metadata": {
        "id": "JOu0DpPggpZz",
        "colab_type": "code",
        "colab": {}
      },
      "source": [
        "# Search for Median Value\n",
        "median = df['TotalCharges'].median()\n",
        "\n",
        "# Use Median to Replace Missing Values\n",
        "df['TotalCharges'].fillna(median, inplace=True)\n",
        "\n",
        "# Check for Missing Values\n",
        "df.info()"
      ],
      "execution_count": null,
      "outputs": []
    },
    {
      "cell_type": "markdown",
      "metadata": {
        "id": "bgTENAxMgpZ2",
        "colab_type": "text"
      },
      "source": [
        "### **Encode Categorical Value**"
      ]
    },
    {
      "cell_type": "code",
      "metadata": {
        "id": "PKYwGJcZTr7V",
        "colab_type": "code",
        "colab": {}
      },
      "source": [
        "# Import Module\n",
        "from sklearn.preprocessing import OneHotEncoder\n",
        "\n",
        "# Encoder\n",
        "encoder = OneHotEncoder(sparse=False)\n",
        "\n",
        "# Encode Categorical Data\n",
        "df2 = pd.DataFrame(encoder.fit_transform(df[['gender', 'SeniorCitizen', 'Partner',\t'Dependents',\t'PhoneService', 'InternetService',\t'MultipleLines',\t'OnlineSecurity',\t'OnlineBackup',\t'DeviceProtection',\t'TechSupport',\t'StreamingTV',\t'StreamingMovies', 'Contract',\t'PaperlessBilling', 'PaymentMethod']]))\n",
        "df2.columns = encoder.get_feature_names(['gender', 'SeniorCitizen', 'Partner',\t'Dependents',\t'PhoneService', 'InternetService',\t'MultipleLines',\t'OnlineSecurity',\t'OnlineBackup',\t'DeviceProtection',\t'TechSupport',\t'StreamingTV',\t'StreamingMovies', 'Contract',\t'PaperlessBilling', 'PaymentMethod'])\n",
        "\n",
        "# Replace Categotical Data with Encoded Data\n",
        "df_encoded = df.drop(['gender', 'SeniorCitizen', 'Partner',\t'Dependents',\t'PhoneService', 'InternetService',\t'MultipleLines',\t'OnlineSecurity',\t'OnlineBackup',\t'DeviceProtection',\t'TechSupport',\t'StreamingTV',\t'StreamingMovies', 'Contract',\t'PaperlessBilling', 'PaymentMethod'] ,axis=1, inplace=True)\n",
        "df_encoded = pd.concat([df, df2], axis=1)\n",
        "\n",
        "# Show Encoded Dataframe\n",
        "df_encoded"
      ],
      "execution_count": null,
      "outputs": []
    },
    {
      "cell_type": "code",
      "metadata": {
        "id": "CtWlBSB5TIxz",
        "colab_type": "code",
        "colab": {}
      },
      "source": [
        "# Replace Churn Values\n",
        "df_encoded['Churn'].replace(['No','Yes'],[0,1],inplace=True)\n",
        "\n",
        "# Show Data\n",
        "df_encoded"
      ],
      "execution_count": null,
      "outputs": []
    },
    {
      "cell_type": "code",
      "metadata": {
        "id": "IHRoGWANUb9K",
        "colab_type": "code",
        "colab": {}
      },
      "source": [
        "# Show DataFrame Info\n",
        "df_encoded.info()"
      ],
      "execution_count": null,
      "outputs": []
    },
    {
      "cell_type": "code",
      "metadata": {
        "id": "lVzIpo3agpaE",
        "colab_type": "code",
        "colab": {}
      },
      "source": [
        "# Drop Unwanted Column\n",
        "df_encoded = df_encoded.drop(\"customerID\", axis=1)\n",
        "df_encoded.head()"
      ],
      "execution_count": null,
      "outputs": []
    },
    {
      "cell_type": "markdown",
      "metadata": {
        "id": "kKUSKeKQgpaG",
        "colab_type": "text"
      },
      "source": [
        "### **Normalization**"
      ]
    },
    {
      "cell_type": "markdown",
      "metadata": {
        "id": "GnJR_YMXIvf2",
        "colab_type": "text"
      },
      "source": [
        "Normalization typically means rescales the values into a range of [0,1]"
      ]
    },
    {
      "cell_type": "code",
      "metadata": {
        "id": "wIBVK9AaYZ_-",
        "colab_type": "code",
        "colab": {}
      },
      "source": [
        "# Select Columns\n",
        "column_names = df_encoded.columns.tolist()\n",
        "column_names.remove('Churn')\n",
        "column_names"
      ],
      "execution_count": null,
      "outputs": []
    },
    {
      "cell_type": "code",
      "metadata": {
        "id": "l2IFv4xogpaG",
        "colab_type": "code",
        "colab": {}
      },
      "source": [
        "#Import MinMax Scaler\n",
        "from sklearn.preprocessing import MinMaxScaler\n",
        "\n",
        "# initialize min-max scaler\n",
        "mm_scaler = MinMaxScaler()\n",
        "df_norm = df_encoded.copy()\n",
        "\n",
        "# Transform all attributes\n",
        "df_norm[column_names] = mm_scaler.fit_transform(df_norm[column_names])\n",
        "df_norm.sort_index(inplace=True)\n",
        "df_norm.head()"
      ],
      "execution_count": null,
      "outputs": []
    },
    {
      "cell_type": "markdown",
      "metadata": {
        "id": "yScFsnHGgpaI",
        "colab_type": "text"
      },
      "source": [
        "### **Standarization**"
      ]
    },
    {
      "cell_type": "markdown",
      "metadata": {
        "id": "AsYTTrjyIyrl",
        "colab_type": "text"
      },
      "source": [
        "Standardization typically means rescales data to have a mean of 0 and a standard deviation of 1 (unit variance)."
      ]
    },
    {
      "cell_type": "code",
      "metadata": {
        "id": "TRZPxQT5gpaI",
        "colab_type": "code",
        "colab": {}
      },
      "source": [
        "# Import Standard Scaler\n",
        "from sklearn.preprocessing import StandardScaler\n",
        "\n",
        "# Initizalize Standard Scaler\n",
        "standard_scaler = StandardScaler()\n",
        "df_stand = df_encoded.copy()\n",
        "\n",
        "# Transform all attributes\n",
        "df_stand[column_names] = standard_scaler.fit_transform(df_stand[column_names])\n",
        "df_stand.sort_index(inplace=True)\n",
        "df_stand.head()"
      ],
      "execution_count": null,
      "outputs": []
    },
    {
      "cell_type": "markdown",
      "metadata": {
        "id": "WG1a0WoZgpaN",
        "colab_type": "text"
      },
      "source": [
        "## **Dimensionality Reduction**"
      ]
    },
    {
      "cell_type": "markdown",
      "metadata": {
        "id": "70ltsg6GgpaO",
        "colab_type": "text"
      },
      "source": [
        "### **Principal Component Analysis**"
      ]
    },
    {
      "cell_type": "markdown",
      "metadata": {
        "id": "qZOjWxSlWDf4",
        "colab_type": "text"
      },
      "source": [
        "Here we model the logistic regression from breast cancer data (https://www.kaggle.com/uciml/breast-cancer-wisconsin-data). Features are computed from a digitized image of a fine needle aspirate (FNA) of a breast mass. They describe characteristics of the cell nuclei present in the image.\n",
        "\n",
        "Attribute Information:\n",
        "\n",
        "1.   ID number\n",
        "2.   Diagnosis (M = malignant, B = benign)\n",
        "\n",
        "Ten real-valued features are computed for each cell nucleus:\n",
        "\n",
        "1.   radius (mean of distances from center to points on the perimeter)\n",
        "2.   texture (standard deviation of gray-scale values)\n",
        "3.   perimeter\n",
        "4.   area\n",
        "5.   smoothness (local variation in radius lengths)\n",
        "6.   compactness (perimeter^2 / area - 1.0)\n",
        "7.   concavity (severity of concave portions of the contour)\n",
        "8.   concave points (number of concave portions of the contour)\n",
        "9.   symmetry\n",
        "10.   fractal dimension (\"coastline approximation\" - 1)"
      ]
    },
    {
      "cell_type": "markdown",
      "metadata": {
        "id": "xjIw-9I3Ysr3",
        "colab_type": "text"
      },
      "source": [
        "Import Data"
      ]
    },
    {
      "cell_type": "code",
      "metadata": {
        "id": "tin6C331gpaO",
        "colab_type": "code",
        "colab": {}
      },
      "source": [
        "# Here We Are Using Inbuilt Dataset of Scikit-Learn \n",
        "from sklearn.datasets import load_breast_cancer \n",
        "  \n",
        "# Instantiating \n",
        "cancer = load_breast_cancer() \n",
        "\n",
        "# Creating Dataframe \n",
        "df_pca = pd.DataFrame(cancer['data'], columns = cancer['feature_names']) \n",
        "df_pca"
      ],
      "execution_count": null,
      "outputs": []
    },
    {
      "cell_type": "markdown",
      "metadata": {
        "id": "laXF270YYw1Z",
        "colab_type": "text"
      },
      "source": [
        "Preprocess the Data"
      ]
    },
    {
      "cell_type": "code",
      "metadata": {
        "id": "hz-ZMPV8W-sD",
        "colab_type": "code",
        "colab": {}
      },
      "source": [
        "# Importing Standardscalar Module \n",
        "from sklearn.preprocessing import StandardScaler \n",
        "\n",
        "# Set Name for StandardScaler as scaler\n",
        "scaler = StandardScaler() \n",
        "\n",
        "# Fit Standardization\n",
        "scaler.fit(df_pca) \n",
        "\n",
        "# Transformed Data\n",
        "df_pca_scaled = pd.DataFrame(scaler.transform(df_pca))\n",
        "\n",
        "# Checking Data\n",
        "df_pca_scaled"
      ],
      "execution_count": null,
      "outputs": []
    },
    {
      "cell_type": "markdown",
      "metadata": {
        "id": "SPhYqsYdVATe",
        "colab_type": "text"
      },
      "source": [
        "**Modeling PCA (Principal Components = 2)**"
      ]
    },
    {
      "cell_type": "code",
      "metadata": {
        "id": "xB7CHiDqgpaQ",
        "colab_type": "code",
        "colab": {}
      },
      "source": [
        "# Importing PCA Module\n",
        "from sklearn.decomposition import PCA \n",
        "\n",
        "# Modeling PCA with Components = 2 \n",
        "pca2 = PCA(n_components = 2) \n",
        "\n",
        "# Apply Model to Data\n",
        "pca2.fit(df_pca_scaled) \n",
        "\n",
        "# Show Result\n",
        "x_pca2 = pca2.transform(df_pca_scaled) \n",
        "df_pca2_result = pd.DataFrame(x_pca2)\n",
        "df_pca2_result"
      ],
      "execution_count": null,
      "outputs": []
    },
    {
      "cell_type": "markdown",
      "metadata": {
        "id": "r_3-uPwuY8qH",
        "colab_type": "text"
      },
      "source": [
        "Visualize PCA"
      ]
    },
    {
      "cell_type": "code",
      "metadata": {
        "id": "FZVLNCMvgpaS",
        "colab_type": "code",
        "colab": {}
      },
      "source": [
        "# Plot \n",
        "plt.scatter(x_pca2[:, 0], x_pca2[:, 1], c = cancer['target'], cmap ='plasma') \n",
        "\n",
        "# Labeling X and Y Axes \n",
        "plt.title('Principal Component Analysis')\n",
        "plt.xlabel('First Principal Component') \n",
        "plt.ylabel('Second Principal Component')"
      ],
      "execution_count": null,
      "outputs": []
    },
    {
      "cell_type": "code",
      "metadata": {
        "id": "zES_2R_IgpaT",
        "colab_type": "code",
        "colab": {}
      },
      "source": [
        "# Plotting Heatmap\n",
        "df_comp2 = pd.DataFrame(pca2.components_, columns = cancer['feature_names']) \n",
        "sns.heatmap(df_comp2)"
      ],
      "execution_count": null,
      "outputs": []
    },
    {
      "cell_type": "markdown",
      "metadata": {
        "id": "YvixuZvMVIxv",
        "colab_type": "text"
      },
      "source": [
        "**Modeling PCA (Principal Components = 3)**"
      ]
    },
    {
      "cell_type": "code",
      "metadata": {
        "id": "S7M1LYvTWoAD",
        "colab_type": "code",
        "colab": {}
      },
      "source": [
        "# Importing PCA Module\n",
        "from sklearn.decomposition import PCA \n",
        "\n",
        "# Modeling PCA with Components = 3\n",
        "pca3 = PCA(n_components = 3) \n",
        "\n",
        "# Apply Model to Data\n",
        "pca3.fit(df_pca_scaled) \n",
        "\n",
        "# Show Result\n",
        "x_pca3 = pca3.transform(df_pca_scaled) \n",
        "df_pca3_result = pd.DataFrame(x_pca3)\n",
        "df_pca3_result"
      ],
      "execution_count": null,
      "outputs": []
    },
    {
      "cell_type": "markdown",
      "metadata": {
        "id": "aBx1YWU5ZAEV",
        "colab_type": "text"
      },
      "source": [
        "Visualize PCA"
      ]
    },
    {
      "cell_type": "code",
      "metadata": {
        "id": "yxTA6ejnWroy",
        "colab_type": "code",
        "colab": {}
      },
      "source": [
        "# Import Axes3D Module\n",
        "from mpl_toolkits.mplot3d import Axes3D\n",
        "\n",
        "# Plot \n",
        "ax = plt.axes(projection='3d')\n",
        "ax.scatter(x_pca3[:, 0], x_pca3[:, 1], x_pca3[:, 2], c = cancer['target'], cmap ='plasma') \n",
        "\n",
        "# Labeling X and Y Axes \n",
        "plt.title('Principal Component Analysis')\n",
        "ax.set_xlabel('First Principal Component') \n",
        "ax.set_ylabel('Second Principal Component')\n",
        "ax.set_zlabel('Third Principal Component')"
      ],
      "execution_count": null,
      "outputs": []
    },
    {
      "cell_type": "code",
      "metadata": {
        "id": "uL_CpF8tXKJ0",
        "colab_type": "code",
        "colab": {}
      },
      "source": [
        "# Plotting Heatmap\n",
        "df_comp3 = pd.DataFrame(pca3.components_, columns = cancer['feature_names']) \n",
        "sns.heatmap(df_comp3)"
      ],
      "execution_count": null,
      "outputs": []
    }
  ]
}