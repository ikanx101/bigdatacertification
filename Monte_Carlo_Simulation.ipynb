{
  "nbformat": 4,
  "nbformat_minor": 0,
  "metadata": {
    "colab": {
      "name": "6. Monte Carlo Simulation",
      "provenance": [],
      "include_colab_link": true
    },
    "kernelspec": {
      "name": "python3",
      "display_name": "Python 3"
    }
  },
  "cells": [
    {
      "cell_type": "markdown",
      "metadata": {
        "id": "view-in-github",
        "colab_type": "text"
      },
      "source": [
        "<a href=\"https://colab.research.google.com/github/rc-dbe/bigdatacertification/blob/master/Monte_Carlo_Simulation.ipynb\" target=\"_parent\"><img src=\"https://colab.research.google.com/assets/colab-badge.svg\" alt=\"Open In Colab\"/></a>"
      ]
    },
    {
      "cell_type": "markdown",
      "metadata": {
        "id": "pMz0CroHEUkB",
        "colab_type": "text"
      },
      "source": [
        "\n",
        "*Hands-on of Big Data Analyst with TuV Certified Qualification*\n",
        "\n",
        "\n",
        "---\n",
        "\n",
        "\n"
      ]
    },
    {
      "cell_type": "markdown",
      "metadata": {
        "id": "YFEs-R3-5JLQ",
        "colab_type": "text"
      },
      "source": [
        "# Monte Carlo Simulation\n",
        "\n"
      ]
    },
    {
      "cell_type": "markdown",
      "metadata": {
        "id": "aKp_PFZIEqK4",
        "colab_type": "text"
      },
      "source": [
        "*Source:* https://pbpython.com/monte-carlo.html"
      ]
    },
    {
      "cell_type": "code",
      "metadata": {
        "id": "NwzSIWaoz_a6",
        "colab_type": "code",
        "colab": {}
      },
      "source": [
        "# Import Library\n",
        "import pandas as pd\n",
        "import numpy as np\n",
        "import seaborn as sns\n",
        "\n",
        "sns.set_style('whitegrid')"
      ],
      "execution_count": 0,
      "outputs": []
    },
    {
      "cell_type": "code",
      "metadata": {
        "id": "AJ6shzt70GMA",
        "colab_type": "code",
        "colab": {}
      },
      "source": [
        "avg = 1\n",
        "std_dev = .1\n",
        "num_reps = 500\n",
        "num_simulations = 1000"
      ],
      "execution_count": 0,
      "outputs": []
    },
    {
      "cell_type": "code",
      "metadata": {
        "id": "igLHPpHg0UuU",
        "colab_type": "code",
        "colab": {}
      },
      "source": [
        "pct_to_target = np.random.normal(avg, std_dev, num_reps).round(2)\n",
        "pct_to_target"
      ],
      "execution_count": 0,
      "outputs": []
    },
    {
      "cell_type": "code",
      "metadata": {
        "id": "VikBQP3v1LNm",
        "colab_type": "code",
        "colab": {}
      },
      "source": [
        "# Count Number of Represntative\n",
        "np.ma.count(pct_to_target)"
      ],
      "execution_count": 0,
      "outputs": []
    },
    {
      "cell_type": "code",
      "metadata": {
        "id": "6xVg74fs0Ys8",
        "colab_type": "code",
        "colab": {}
      },
      "source": [
        "sales_target_values = [75_000, 100_000, 200_000, 300_000, 400_000, 500_000]\n",
        "sales_target_prob = [.3, .3, .2, .1, .05, .05]\n",
        "\n",
        "# Create Random Choice Using Numpy\n",
        "sales_target = np.random.choice(sales_target_values, num_reps, p=sales_target_prob)"
      ],
      "execution_count": 0,
      "outputs": []
    },
    {
      "cell_type": "code",
      "metadata": {
        "id": "jCVSrRe96IkS",
        "colab_type": "code",
        "colab": {}
      },
      "source": [
        "sales_target"
      ],
      "execution_count": 0,
      "outputs": []
    },
    {
      "cell_type": "code",
      "metadata": {
        "id": "J8Yw2viA0aQi",
        "colab_type": "code",
        "colab": {}
      },
      "source": [
        "# Create a Pandas Dataframe\n",
        "df = pd.DataFrame(index=range(num_reps), data={'Pct_To_Target': pct_to_target,\n",
        "                                               'Sales_Target': sales_target})\n",
        "\n",
        "# Print The Dataset\n",
        "df.head()"
      ],
      "execution_count": 0,
      "outputs": []
    },
    {
      "cell_type": "code",
      "metadata": {
        "id": "9mWsWKbP6dab",
        "colab_type": "code",
        "colab": {}
      },
      "source": [
        "# Creare A new Column 'Sales'\n",
        "df['Sales'] = df['Pct_To_Target'] * df['Sales_Target']\n",
        "\n",
        "# Print The Dataset\n",
        "df.head()"
      ],
      "execution_count": 0,
      "outputs": []
    },
    {
      "cell_type": "code",
      "metadata": {
        "id": "FswvkHsc0cPn",
        "colab_type": "code",
        "colab": {}
      },
      "source": [
        "# Create a function to Calculate the Commission Rate\n",
        "def calc_commission_rate(x):\n",
        "    \"\"\" Return the commission rate based on the table:\n",
        "    0-90% = 2%\n",
        "    91-99% = 3%\n",
        "    >= 100 = 4%\n",
        "    \"\"\"\n",
        "    if x <= .90:\n",
        "        return .02\n",
        "    if x <= .99:\n",
        "        return .03\n",
        "    else:\n",
        "        return .04"
      ],
      "execution_count": 0,
      "outputs": []
    },
    {
      "cell_type": "code",
      "metadata": {
        "id": "ZLsx0WkU0hyp",
        "colab_type": "code",
        "colab": {}
      },
      "source": [
        "# Define a list to keep all the results from each simulation that we want to analyze\n",
        "all_stats = []\n",
        "\n",
        "# Loop through many simulations\n",
        "for i in range(num_simulations):\n",
        "\n",
        "    # Choose random inputs for the sales targets and percent to target\n",
        "    sales_target = np.random.choice(sales_target_values, num_reps, p=sales_target_prob)\n",
        "    pct_to_target = np.random.normal(avg, std_dev, num_reps).round(2)\n",
        "\n",
        "    # Build the dataframe based on the inputs and number of reps\n",
        "    df = pd.DataFrame(index=range(num_reps), data={'Pct_To_Target': pct_to_target,\n",
        "                                                   'Sales_Target': sales_target})\n",
        "\n",
        "    # Back into the sales number using the percent to target rate\n",
        "    df['Sales'] = df['Pct_To_Target'] * df['Sales_Target']\n",
        "\n",
        "    # Determine the commissions rate and calculate it\n",
        "    df['Commission_Rate'] = df['Pct_To_Target'].apply(calc_commission_rate)\n",
        "    df['Commission_Amount'] = df['Commission_Rate'] * df['Sales']\n",
        "\n",
        "    # We want to track sales,commission amounts and sales targets over all the simulations\n",
        "    all_stats.append([df['Sales'].sum().round(0),\n",
        "                      df['Commission_Amount'].sum().round(0),\n",
        "                      df['Sales_Target'].sum().round(0)])"
      ],
      "execution_count": 0,
      "outputs": []
    },
    {
      "cell_type": "code",
      "metadata": {
        "id": "jKXBbIon3wE-",
        "colab_type": "code",
        "colab": {}
      },
      "source": [
        "df"
      ],
      "execution_count": 0,
      "outputs": []
    },
    {
      "cell_type": "code",
      "metadata": {
        "id": "HGylJSr20j4f",
        "colab_type": "code",
        "colab": {}
      },
      "source": [
        "# Save Result in Pandas Data Frame Format\n",
        "results_df = pd.DataFrame.from_records(all_stats, columns=['Sales',\n",
        "                                                           'Commission_Amount',\n",
        "                                                           'Sales_Target'])\n",
        "\n",
        "# Print Result\n",
        "results_df"
      ],
      "execution_count": 0,
      "outputs": []
    },
    {
      "cell_type": "code",
      "metadata": {
        "id": "uhfVrN5k0l27",
        "colab_type": "code",
        "colab": {}
      },
      "source": [
        "# Show Statistics Information\n",
        "results_df.describe().style.format('{:,}')"
      ],
      "execution_count": 0,
      "outputs": []
    }
  ]
}